{
 "cells": [
  {
   "cell_type": "code",
   "execution_count": 47,
   "id": "d88d8663",
   "metadata": {},
   "outputs": [
    {
     "name": "stdout",
     "output_type": "stream",
     "text": [
      "Warning: Looks like you're using an outdated `kagglehub` version (installed: 0.3.12), please consider upgrading to the latest version (0.3.13).\n",
      "Path to dataset files: /home/supertramp/.cache/kagglehub/datasets/utsavdey1410/food-nutrition-dataset/versions/1\n"
     ]
    }
   ],
   "source": [
    "import kagglehub\n",
    "\n",
    "# Download latest version\n",
    "path = kagglehub.dataset_download(\"utsavdey1410/food-nutrition-dataset\")\n",
    "\n",
    "print(\"Path to dataset files:\", path)"
   ]
  },
  {
   "cell_type": "code",
   "execution_count": 48,
   "id": "3d32cc21",
   "metadata": {},
   "outputs": [],
   "source": [
    "import pandas as pd\n",
    "import numpy as np\n",
    "from pathlib import Path"
   ]
  },
  {
   "cell_type": "code",
   "execution_count": 49,
   "id": "598abe49",
   "metadata": {},
   "outputs": [
    {
     "name": "stdout",
     "output_type": "stream",
     "text": [
      "   Unnamed: 0.1  Unnamed: 0                              food  Caloric Value  \\\n",
      "0             0           0                      cream cheese             51   \n",
      "1             1           1                 neufchatel cheese            215   \n",
      "2             2           2  requeijao cremoso light catupiry             49   \n",
      "3             3           3                    ricotta cheese             30   \n",
      "4             4           4              cream cheese low fat             30   \n",
      "\n",
      "    Fat  Saturated Fats  Monounsaturated Fats  Polyunsaturated Fats  \\\n",
      "0   5.0             2.9                   1.3                 0.200   \n",
      "1  19.4            10.9                   4.9                 0.800   \n",
      "2   3.6             2.3                   0.9                 0.000   \n",
      "3   2.0             1.3                   0.5                 0.002   \n",
      "4   2.3             1.4                   0.6                 0.042   \n",
      "\n",
      "   Carbohydrates  Sugars  ...  Calcium  Copper   Iron  Magnesium  Manganese  \\\n",
      "0            0.8   0.500  ...    0.008  14.100  0.082      0.027      1.300   \n",
      "1            3.1   2.700  ...   99.500   0.034  0.100      8.500      0.088   \n",
      "2            0.9   3.400  ...    0.000   0.000  0.000      0.000      0.000   \n",
      "3            1.5   0.091  ...    0.097  41.200  0.097      0.096      4.000   \n",
      "4            1.2   0.900  ...   22.200   0.072  0.008      1.200      0.098   \n",
      "\n",
      "   Phosphorus  Potassium  Selenium   Zinc  Nutrition Density  \n",
      "0       0.091       15.5    19.100  0.039              7.070  \n",
      "1     117.300      129.2     0.054  0.700            130.100  \n",
      "2       0.000        0.0     0.000  0.000              5.400  \n",
      "3       0.024       30.8    43.800  0.035              5.196  \n",
      "4      22.800       37.1     0.034  0.053             27.007  \n",
      "\n",
      "[5 rows x 37 columns]\n"
     ]
    }
   ],
   "source": [
    "dataset_path = Path(path)\n",
    "\n",
    "df_group1 = pd.read_csv(dataset_path/'FINAL FOOD DATASET/FOOD-DATA-GROUP1.csv')\n",
    "print(df_group1.head())"
   ]
  },
  {
   "cell_type": "code",
   "execution_count": 50,
   "id": "da139a1d",
   "metadata": {},
   "outputs": [
    {
     "name": "stdout",
     "output_type": "stream",
     "text": [
      "                               food  Caloric Value   Fat  Saturated Fats  \\\n",
      "0                      cream cheese             51   5.0             2.9   \n",
      "1                 neufchatel cheese            215  19.4            10.9   \n",
      "2  requeijao cremoso light catupiry             49   3.6             2.3   \n",
      "3                    ricotta cheese             30   2.0             1.3   \n",
      "4              cream cheese low fat             30   2.3             1.4   \n",
      "\n",
      "   Monounsaturated Fats  Polyunsaturated Fats  Carbohydrates  Sugars  Protein  \\\n",
      "0                   1.3                 0.200            0.8   0.500      0.9   \n",
      "1                   4.9                 0.800            3.1   2.700      7.8   \n",
      "2                   0.9                 0.000            0.9   3.400      0.8   \n",
      "3                   0.5                 0.002            1.5   0.091      1.5   \n",
      "4                   0.6                 0.042            1.2   0.900      1.2   \n",
      "\n",
      "   Dietary Fiber  ...  Calcium  Copper   Iron  Magnesium  Manganese  \\\n",
      "0            0.0  ...    0.008  14.100  0.082      0.027      1.300   \n",
      "1            0.0  ...   99.500   0.034  0.100      8.500      0.088   \n",
      "2            0.1  ...    0.000   0.000  0.000      0.000      0.000   \n",
      "3            0.0  ...    0.097  41.200  0.097      0.096      4.000   \n",
      "4            0.0  ...   22.200   0.072  0.008      1.200      0.098   \n",
      "\n",
      "   Phosphorus  Potassium  Selenium   Zinc  Nutrition Density  \n",
      "0       0.091       15.5    19.100  0.039              7.070  \n",
      "1     117.300      129.2     0.054  0.700            130.100  \n",
      "2       0.000        0.0     0.000  0.000              5.400  \n",
      "3       0.024       30.8    43.800  0.035              5.196  \n",
      "4      22.800       37.1     0.034  0.053             27.007  \n",
      "\n",
      "[5 rows x 35 columns]\n",
      "(551, 35)\n"
     ]
    }
   ],
   "source": [
    "df_group1 = df_group1.loc[:, ~df_group1.columns.str.contains('^Unnamed')]\n",
    "print(df_group1.head())\n",
    "print(df_group1.shape)"
   ]
  },
  {
   "cell_type": "code",
   "execution_count": 51,
   "id": "18447354",
   "metadata": {},
   "outputs": [
    {
     "name": "stdout",
     "output_type": "stream",
     "text": [
      "                               food  Caloric Value  Protein   Fat  \\\n",
      "0                      cream cheese             51      0.9   5.0   \n",
      "1                 neufchatel cheese            215      7.8  19.4   \n",
      "2  requeijao cremoso light catupiry             49      0.8   3.6   \n",
      "3                    ricotta cheese             30      1.5   2.0   \n",
      "4              cream cheese low fat             30      1.2   2.3   \n",
      "\n",
      "   Carbohydrates  \n",
      "0            0.8  \n",
      "1            3.1  \n",
      "2            0.9  \n",
      "3            1.5  \n",
      "4            1.2  \n"
     ]
    }
   ],
   "source": [
    "df = df_group1[['food', 'Caloric Value', 'Protein','Fat', 'Carbohydrates']]\n",
    "print(df.head())"
   ]
  },
  {
   "cell_type": "code",
   "execution_count": 52,
   "id": "8998a694",
   "metadata": {},
   "outputs": [
    {
     "name": "stdout",
     "output_type": "stream",
     "text": [
      "Папка уже существует\n"
     ]
    }
   ],
   "source": [
    "import json\n",
    "import os\n",
    "\n",
    "if not os.path.exists(\"data\"):\n",
    "    os.mkdir(\"data\")\n",
    "else:\n",
    "    print(\"Папка уже существует\")\n",
    "\n",
    "df.to_json('data/nutrition_data.json', orient='records', indent=2, force_ascii=False)"
   ]
  },
  {
   "cell_type": "code",
   "execution_count": 53,
   "id": "456179e3",
   "metadata": {},
   "outputs": [],
   "source": [
    "# Загрузка данных из файла\n",
    "with open('data/nutrition_data.json', 'r', encoding='utf-8') as f:\n",
    "    data = json.load(f)\n",
    "\n",
    "# Функция для преобразования числовых полей в int\n",
    "def convert_numeric_fields(item):\n",
    "    if isinstance(item, dict):\n",
    "        for key, value in item.items():\n",
    "            if key != \"food\" and isinstance(value, (int, float)):\n",
    "                item[key] = int(value)\n",
    "    return item\n",
    "\n",
    "# Применяем преобразование ко всем элементам\n",
    "if isinstance(data, list):\n",
    "    converted_data = [convert_numeric_fields(item) for item in data]\n",
    "elif isinstance(data, dict):\n",
    "    converted_data = convert_numeric_fields(data)\n",
    "else:\n",
    "    converted_data = data\n",
    "\n",
    "# Сохранение обратно в файл\n",
    "with open('data/nutrition_data.json', 'w', encoding='utf-8') as f:\n",
    "    json.dump(converted_data, f, indent=2, ensure_ascii=False)"
   ]
  },
  {
   "cell_type": "code",
   "execution_count": 54,
   "id": "09b13792",
   "metadata": {},
   "outputs": [
    {
     "name": "stdout",
     "output_type": "stream",
     "text": [
      "Файл уже существует: data/food.json\n",
      "Файл уже существует: data/meals.json\n",
      "Файл уже существует: data/targets.json\n"
     ]
    }
   ],
   "source": [
    "def create_empty_file_if_not_exists(file_path):\n",
    "    if not os.path.exists(file_path):\n",
    "        with open(file_path, 'w', encoding='utf-8') as f:\n",
    "            pass  # Ничего не записываем\n",
    "        print(f\"Создан файл: {file_path}\")\n",
    "    else:\n",
    "        print(f\"Файл уже существует: {file_path}\")\n",
    "\n",
    "\n",
    "create_empty_file_if_not_exists('data/food.json')\n",
    "create_empty_file_if_not_exists('data/meals.json')\n",
    "create_empty_file_if_not_exists('data/targets.json')"
   ]
  }
 ],
 "metadata": {
  "kernelspec": {
   "display_name": "venv",
   "language": "python",
   "name": "python3"
  },
  "language_info": {
   "codemirror_mode": {
    "name": "ipython",
    "version": 3
   },
   "file_extension": ".py",
   "mimetype": "text/x-python",
   "name": "python",
   "nbconvert_exporter": "python",
   "pygments_lexer": "ipython3",
   "version": "3.13.7"
  }
 },
 "nbformat": 4,
 "nbformat_minor": 5
}
